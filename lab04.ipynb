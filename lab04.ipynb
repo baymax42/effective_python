{
 "cells": [
  {
   "cell_type": "markdown",
   "metadata": {},
   "source": [
    "## Lab 04"
   ]
  },
  {
   "cell_type": "markdown",
   "metadata": {},
   "source": [
    "## Zadanie 1 (Igor Sieradzki)"
   ]
  },
  {
   "cell_type": "markdown",
   "metadata": {},
   "source": [
    "Funkcja <t>flow_rate</i> do modyfikacji"
   ]
  },
  {
   "cell_type": "code",
   "execution_count": 1,
   "metadata": {
    "collapsed": true
   },
   "outputs": [],
   "source": [
    "def flow_rate(weight, time, **kwargs):\n",
    "    \"\"\" Funkcja wylicza ile wagi produktu przybyło/ubyło w jednostce czasu \"\"\"\n",
    "    return (weight * kwargs.get('units_per_kg', 1)) / (time / kwargs.get('period', 1))\n",
    "\n",
    "weight = 0.5\n",
    "time = 3"
   ]
  },
  {
   "cell_type": "code",
   "execution_count": null,
   "metadata": {
    "collapsed": true
   },
   "outputs": [],
   "source": [
    "flow = flow_rate(weight, time)\n",
    "print(\"{0:.3} kg per second\".format(flow))"
   ]
  },
  {
   "cell_type": "code",
   "execution_count": null,
   "metadata": {
    "collapsed": true
   },
   "outputs": [],
   "source": [
    "Zmodyfikuj funckje <i>flow_rate</i> tak, aby poniższe wywołania działały poprawnie."
   ]
  },
  {
   "cell_type": "code",
   "execution_count": 2,
   "metadata": {
    "collapsed": true
   },
   "outputs": [
    {
     "name": "stdout",
     "output_type": "stream",
     "text": [
      "10000.0 grams per minute\n"
     ]
    }
   ],
   "source": [
    "flow = flow_rate(weight, time, period=60, units_per_kg=1000)\n",
    "print(\"{} grams per minute\".format(flow))"
   ]
  },
  {
   "cell_type": "code",
   "execution_count": 3,
   "metadata": {
    "collapsed": true
   },
   "outputs": [
    {
     "name": "stdout",
     "output_type": "stream",
     "text": [
      "0.167 kg per second\n"
     ]
    }
   ],
   "source": [
    "flow = flow_rate(weight, time, period=1, units_per_kg=1)\n",
    "print(\"{0:.3} kg per second\".format(flow))"
   ]
  },
  {
   "cell_type": "code",
   "execution_count": 4,
   "metadata": {
    "collapsed": true
   },
   "outputs": [
    {
     "name": "stdout",
     "output_type": "stream",
     "text": [
      "0.167 grams per minute\n"
     ]
    }
   ],
   "source": [
    "flow = flow_rate(weight, time)\n",
    "print(\"{0:.3} grams per minute\".format(flow))"
   ]
  },
  {
   "cell_type": "markdown",
   "metadata": {},
   "source": [
    "Wyjaśnić czemu poniższe rzucanie błędu jest porządane"
   ]
  },
  {
   "cell_type": "code",
   "execution_count": 5,
   "metadata": {
    "collapsed": true
   },
   "outputs": [
    {
     "name": "stdout",
     "output_type": "stream",
     "text": [
      "True\n"
     ]
    }
   ],
   "source": [
    "try:\n",
    "    flow = flow_rate(weight, time, 3600, 2.2)\n",
    "except TypeError:\n",
    "    print(True)"
   ]
  },
  {
   "cell_type": "markdown",
   "metadata": {},
   "source": [
    "## Zadanie 2 (Igor Sieradzki)"
   ]
  },
  {
   "cell_type": "markdown",
   "metadata": {},
   "source": [
    "Dopisz definicje dekoratora _timeit_, który wypisze na wyjscie standardowe czas wywołania udekorowanej funckji np.\n",
    "\n",
    "```\n",
    "@timeit\n",
    "def foo(x):\n",
    "    return x**2\n",
    "    \n",
    "r = foo(2)\n",
    "```\n",
    "wypize: <br>\n",
    "    `Function foo took: 0.00001 seconds` <br>\n",
    "oraz zwróci 4"
   ]
  },
  {
   "cell_type": "code",
   "execution_count": 11,
   "metadata": {
    "collapsed": true
   },
   "outputs": [
    {
     "name": "stdout",
     "output_type": "stream",
     "text": [
      "Function squares_list took 0.4179267883300781 seconds\n",
      "Function squares_comprehension took 0.34078001976013184 seconds\n",
      "Function squares_map took 1.4543533325195312e-05 seconds\n"
     ]
    }
   ],
   "source": [
    "from time import time\n",
    "\n",
    "def timeit(func):\n",
    "    \"\"\" Wypisuje czas wywołania udekorowanej funckji \"\"\"\n",
    "    @wraps(func)\n",
    "    def get_time_between_runs(*args):\n",
    "        start = time()\n",
    "        func(*args)\n",
    "        elapsed = time() - start\n",
    "        print(f\"Function {func.__name__} took {elapsed} seconds\")\n",
    "    return get_time_between_runs\n",
    "\n",
    "@timeit\n",
    "def squares_list(n):\n",
    "    squares = []\n",
    "    for i in range(n):\n",
    "        squares.append(i ** 2)\n",
    "    return squares\n",
    "\n",
    "@timeit\n",
    "def squares_comprehension(n):\n",
    "    return [i ** 2 for i in range(n)]\n",
    "\n",
    "@timeit\n",
    "def squares_map(n):\n",
    "    return map(lambda x: x**2, range(n))\n",
    "\n",
    "n = 1000000\n",
    "l = squares_list(n)\n",
    "c = squares_comprehension(n)\n",
    "m = squares_map(n)"
   ]
  },
  {
   "cell_type": "markdown",
   "metadata": {},
   "source": [
    "## Zadanie 3 (Igor Sieradzki)"
   ]
  },
  {
   "cell_type": "markdown",
   "metadata": {},
   "source": [
    "Dopisz definicje dekoratora _derivate_ wg. instrukcji w _docstringu_"
   ]
  },
  {
   "cell_type": "code",
   "execution_count": 41,
   "metadata": {
    "collapsed": true
   },
   "outputs": [
    {
     "name": "stdout",
     "output_type": "stream",
     "text": [
      "True\n",
      "True\n",
      "True\n",
      "True\n",
      "1796.805719844997 1796.7957198493862 \t True\n",
      "2421356.153488159 2421356.1441518054 \t True\n",
      "904.6866038494045 904.676603850824 \t True\n",
      "613829.8287987709 613829.8181662955 \t True\n",
      "1788.7435542768799 1788.733554281357 \t True\n",
      "2399675.8222579956 2399675.7961590122 \t True\n",
      "211.6350228585361 211.62502285841512 \t True\n",
      "33588.86591158807 33588.862724868544 \t True\n",
      "1744.2789674270898 1744.2689674280243 \t True\n",
      "2281855.7024002075 2281855.6730493195 \t True\n",
      "191.6676220977024 191.65762209760052 \t True\n",
      "27549.485978670415 27549.48308107999 \t True\n",
      "791.0308929043822 791.0208929034654 \t True\n",
      "469285.549968481 469285.5397573468 \t True\n",
      "256.0072206912082 255.99722069123155 \t True\n",
      "49150.93660820275 49150.93275122633 \t True\n",
      "557.8932032076409 557.8832032082937 \t True\n",
      "233425.25884509084 233425.25131645976 \t True\n",
      "1115.0514311389998 1115.041431138337 \t True\n",
      "932488.0599975585 932488.044866273 \t True\n",
      "563.5461265032063 563.5361265038295 \t True\n",
      "238179.73211407659 238179.72440620503 \t True\n",
      "670.2685991418548 670.2585991430273 \t True\n",
      "336934.9516928196 336934.94229388 \t True\n",
      "1798.7412848393433 1798.7312848368636 \t True\n",
      "2426575.708389282 2426575.6762881554 \t True\n",
      "722.9779072993551 722.9679072990542 \t True\n",
      "392011.95612549776 392011.9462382804 \t True\n",
      "279.51886181908776 279.5088618194164 \t True\n",
      "58593.9070675522 58593.9028766892 \t True\n",
      "1324.5565969496965 1324.5465969523066 \t True\n",
      "1315817.779302597 1315817.7656234521 \t True\n",
      "1222.3181107547134 1222.308110755479 \t True\n",
      "1120527.8545618057 1120527.8382139714 \t True\n",
      "740.5556552112103 740.545655211029 \t True\n",
      "411305.9110939502 411305.9005889492 \t True\n",
      "621.6657841767301 621.6557841766943 \t True\n",
      "289841.9439792633 289841.9355002555 \t True\n",
      "358.4364945309062 358.4264945312026 \t True\n",
      "96352.16947644948 96352.16398644465 \t True\n"
     ]
    }
   ],
   "source": [
    "import sys\n",
    "# sys.float_info.epsilon # epsilon maszynowy\n",
    "\n",
    "\n",
    "def derivate(epsilon=1000 * sys.float_info.epsilon):\n",
    "    \"\"\"\n",
    "    Zwraca pochodną funkcji w punkcie, wg. wzoru f'(x) = [f(x+h) - f(x)]/h, \n",
    "    gdzie h jest parametrem dekoratora, jeśli nie zostanie podany, należy przyjąć 1000 * epsilon maszynowy\n",
    "    \"\"\"\n",
    "    @wraps(func)\n",
    "    def do_derivate(func):\n",
    "        def calculate(arg):\n",
    "            return (func(arg + epsilon) - func(arg)) / epsilon\n",
    "        return calculate\n",
    "    return do_derivate\n",
    "\n",
    "\n",
    "@derivate(0.01)\n",
    "def f(x):\n",
    "    return x*x\n",
    "\n",
    "@derivate(0.00001)\n",
    "def g(x):\n",
    "    return x*x*x+3\n",
    "\n",
    "def test(a, b, eps=1):\n",
    "    return abs(round(a)-round(b)) < eps\n",
    "\n",
    "print(test(f(100), 200.0))\n",
    "print(round(f(0)) == 0.0)\n",
    "\n",
    "print(test(g(100), 30000.0))\n",
    "print(round(g(0)) == 0.0)\n",
    "\n",
    "from random import random\n",
    "for x in [random()*1000. for _ in range(20)]:\n",
    "    print(f(x), 2*x, '\\t', test(f(x), 2*x))\n",
    "    print(g(x), 3*x**2, '\\t', test(g(x), 3*x**2))"
   ]
  },
  {
   "cell_type": "markdown",
   "metadata": {},
   "source": [
    "## Zadanie 4 (Igor Sieradzki)"
   ]
  },
  {
   "cell_type": "markdown",
   "metadata": {},
   "source": [
    "Dopisz definicje dekoratora _accepts_ wg. instrukcji w _docstringu_"
   ]
  },
  {
   "cell_type": "code",
   "execution_count": 26,
   "metadata": {
    "collapsed": true
   },
   "outputs": [
    {
     "name": "stdout",
     "output_type": "stream",
     "text": [
      "True\n",
      "True\n",
      "True\n",
      "True\n",
      "True\n",
      "True\n",
      "True\n"
     ]
    }
   ],
   "source": [
    "def accepts(*types):\n",
    "    \"\"\"Sprawdza czy udekorowanej funckji zostały podane odpowiednie parametry zdefiniowane \n",
    "       w argumentach dekoratora\"\"\"\n",
    "    def decorator(func):\n",
    "        @wraps(func)\n",
    "        def check_types(*args, **kwargs):\n",
    "            if not all([isinstance(arg, type) for type, arg in zip(types, args)]):\n",
    "                raise TypeError()\n",
    "            return func(*args, **kwargs)\n",
    "        return check_types\n",
    "    return decorator\n",
    "\n",
    "\n",
    "@accepts(str)\n",
    "def capitalize(word):\n",
    "    return word[0].upper() + word[1:]\n",
    "\n",
    "print(capitalize('ola') == 'Ola')\n",
    "\n",
    "try:\n",
    "    capitalize(2)\n",
    "except TypeError:\n",
    "    print(True)\n",
    "\n",
    "@accepts(float, int)\n",
    "def static_pow(base, exp):\n",
    "    return base ** exp \n",
    "\n",
    "print(static_pow(2., 2) == 4.)\n",
    "print(static_pow(2., exp=2) == 4.)\n",
    "print(static_pow(base=2., exp=2) == 4.)\n",
    "\n",
    "try:\n",
    "    static_pow('x', 10)\n",
    "except TypeError:\n",
    "    print(True)\n",
    "    \n",
    "try:\n",
    "    static_pow(2, 2.2)\n",
    "except TypeError:\n",
    "    print(True)"
   ]
  },
  {
   "cell_type": "markdown",
   "metadata": {},
   "source": [
    "## Zadanie 5 (Igor Sieradzki)"
   ]
  },
  {
   "cell_type": "markdown",
   "metadata": {},
   "source": [
    "Dopisz definicje dekoratora _returns_ wg. instrukcji w _docstringu_"
   ]
  },
  {
   "cell_type": "code",
   "execution_count": 28,
   "metadata": {
    "collapsed": true
   },
   "outputs": [
    {
     "name": "stdout",
     "output_type": "stream",
     "text": [
      "True\n",
      "True\n",
      "True\n",
      "True\n"
     ]
    }
   ],
   "source": [
    "from re import split\n",
    "\n",
    "\n",
    "def returns(*types):\n",
    "    \"\"\"Sprawdza czy udekorowana funkcja zwraca poprawne argumenty, zdefiniowane w parametrach dekoratora\"\"\"\n",
    "    def decorator(func):\n",
    "        @wraps(func)\n",
    "        def check_types(*args, **kwargs):\n",
    "            result = func(*args, **kwargs)\n",
    "            if not all([isinstance(arg, type) for type, arg in zip(types, result)]):\n",
    "                raise TypeError()\n",
    "            return result\n",
    "        return check_types\n",
    "    return decorator\n",
    "\n",
    "\n",
    "@returns(str)\n",
    "def str_only_identity(word):\n",
    "    return word\n",
    "\n",
    "print(str_only_identity('hello') == 'hello')\n",
    "\n",
    "try:\n",
    "    str_only_identity(10)\n",
    "except TypeError:\n",
    "    print(True)\n",
    "    \n",
    "@returns(int, int)\n",
    "def split_indices(x):\n",
    "    return x[0], x[1]\n",
    "\n",
    "print(split_indices(x=[6,9]) == (6,9))\n",
    "\n",
    "try:\n",
    "    split('AB')\n",
    "except TypeError:\n",
    "    print(True)"
   ]
  },
  {
   "cell_type": "markdown",
   "metadata": {},
   "source": [
    "## Zadanie 6 (Igor Sieradzki)\n",
    "Stwórz dekorator cached służący do cachowania wywołań dowolnej funkcji, tzn. chcemy by:\n",
    "* wywołanie funkcji z określonymi argumentami miało miejsce tylko raz\n",
    "* funkcja mogła przyjmować dowolną liczbę nazwanych i nienazwanych argumentów\n",
    "* nie musi reagować poprawnie na domyślne argumenty, tzn. wywołanie funkcji z domyślnymi argumentami a podanie dokładnie takich samych może być traktowane jako dwa różne wywołania\n",
    "* na opakowanej funkcji można wywołać `.cache_reset()`, który usunie cache z pamięci\n",
    "* wywołanie `.cache_status()` zwraca string z opisem w postaci: <br>\n",
    "    `Function FUNCTION_NAME called X times, evaluated Y times`"
   ]
  },
  {
   "cell_type": "code",
   "execution_count": 49,
   "metadata": {
    "collapsed": true
   },
   "outputs": [
    {
     "name": "stdout",
     "output_type": "stream",
     "text": [
      "True\n",
      "True\n",
      "False\n",
      "True\n",
      "True\n",
      "False\n",
      "Function abcd called 3 times, evaluated 1 times\n"
     ]
    }
   ],
   "source": [
    "import functools\n",
    "from functools import wraps\n",
    "from random import random\n",
    "\n",
    "class Cached:\n",
    "    def __init__(self, func):\n",
    "        functools.update_wrapper(self, func)\n",
    "        self.func = func\n",
    "        self.times_run = 0\n",
    "        self.times_executed = 0\n",
    "        self.cache = {}\n",
    "\n",
    "    @staticmethod\n",
    "    def _hash(name, *args, **kwargs):\n",
    "        return f'{name}{str(args)}{str([f\"{key}={value}\" for key, value in sorted(kwargs.items())])}'\n",
    "\n",
    "    def cache_reset(self):\n",
    "        self.cache = {}\n",
    "\n",
    "    def cache_status(self):\n",
    "        return f'Function {self.func.__name__} called {self.times_run} times, evaluated {self.times_executed} times'\n",
    "\n",
    "    def __call__(self, *args, **kwargs):\n",
    "        exec_hash = self._hash(self.func.__name__, *args, **kwargs)\n",
    "        self.times_run += 1\n",
    "        if exec_hash in self.cache:\n",
    "            return self.cache[exec_hash]\n",
    "        self.times_executed += 1\n",
    "        return self.cache.setdefault(exec_hash, self.func(*args, **kwargs))\n",
    "\n",
    "def cached(func):\n",
    "    def hash(name, *args, **kwargs):\n",
    "        return f'{name}{\"\".join(map(str, args))}{\"\".join([f\"{key}={value}\" for key, value in sorted(kwargs.items())])}'\n",
    "\n",
    "    @wraps(func)\n",
    "    def decorator(*args, **kwargs):\n",
    "        exec_hash = hash(func.__name__, *args, **kwargs)\n",
    "        decorator.times_run += 1\n",
    "        if exec_hash in decorator.cache:\n",
    "            return decorator.cache[exec_hash]\n",
    "        decorator.times_executed += 1\n",
    "        return decorator.cache.setdefault(exec_hash, func(*args, **kwargs))\n",
    "\n",
    "    def cache_reset():\n",
    "        decorator.cache = {}\n",
    "\n",
    "    def cache_status():\n",
    "        return f'Function {func.__name__} called {decorator.times_run} times, evaluated {decorator.times_executed} times'\n",
    "\n",
    "    decorator.times_run = 0\n",
    "    decorator.times_executed = 0\n",
    "    decorator.cache_status = cache_status\n",
    "    decorator.cache_reset = cache_reset\n",
    "    cache_reset()\n",
    "\n",
    "    return decorator\n",
    "\n",
    "@Cached\n",
    "def foo(x, y=1, z=4):\n",
    "    return random()\n",
    "\n",
    "@Cached\n",
    "def abcd():\n",
    "    return 1\n",
    "        \n",
    "print(foo(3) == foo(3))\n",
    "print(foo(4) == foo(4))\n",
    "print(foo(3, z=-1, y=3) == foo(3, y=3, z=-1))\n",
    "print(foo(3) != foo(x=3))\n",
    "a = foo(3)\n",
    "foo.cache_reset()\n",
    "print(a != foo(3))\n",
    "print(foo.cache_status() == 'Function foo called 10 times, evaluated 5 times')\n",
    "abcd()\n",
    "abcd()\n",
    "abcd()\n",
    "print(abcd.cache_status())"
   ]
  },
  {
   "cell_type": "markdown",
   "metadata": {},
   "source": [
    "## Zadanie 7 (Krzysztof Hajto)"
   ]
  },
  {
   "cell_type": "markdown",
   "metadata": {},
   "source": [
    "Napisz dekorator który będzie robić n-krotne złożenie funkcji, gdzie n jest parametrem dekoratora"
   ]
  },
  {
   "cell_type": "code",
   "execution_count": 40,
   "metadata": {
    "collapsed": true
   },
   "outputs": [
    {
     "name": "stdout",
     "output_type": "stream",
     "text": [
      "True\n",
      "True\n",
      "True\n"
     ]
    }
   ],
   "source": [
    "from functools import reduce\n",
    "\n",
    "\n",
    "def zlozenie(n):\n",
    "    def decorator_with_arg(func):\n",
    "        @wraps(func)\n",
    "        def decorator(arg):\n",
    "            result = func(arg)\n",
    "            for i in range(n - 1):\n",
    "                result = func(result)\n",
    "            return result\n",
    "        return decorator\n",
    "    return decorator_with_arg\n",
    "\n",
    "@zlozenie(3)\n",
    "def f1(x):\n",
    "    return x+1\n",
    "\n",
    "@zlozenie(2)\n",
    "def f2(x):\n",
    "    return x*x\n",
    "\n",
    "@zlozenie(5)\n",
    "def f3(word):\n",
    "    return \"\".join(chr(ord(l)+1) for l in word)\n",
    "\n",
    "print(f1(2)==5)\n",
    "print(f2(3)==81)\n",
    "print(f3(\"alamakota\")==\"fqfrfptyf\")"
   ]
  },
  {
   "cell_type": "markdown",
   "metadata": {},
   "source": [
    "## Zadanie 8 (Krzysztof Hajto)"
   ]
  },
  {
   "cell_type": "markdown",
   "metadata": {},
   "source": [
    "Python nie ma wbudowanej instrukcji switch. Ale posiada anonimowe funkcje oraz słowniki. Zaimplementuj poniższy switch w postaci słownika funkcji.\n",
    "`\n",
    "int my_function(x, y) {\n",
    "\n",
    "\n",
    "    switch(x) {\n",
    "        case 1: return y*y;\n",
    "        case 2: return x+y;\n",
    "        case 3: return x*y;\n",
    "        case 4: return 0;\n",
    "    }\n",
    "}\n",
    "`\n",
    "\n",
    "PS. Nigdy nie róbcie tego w faktycznym kodzie :)"
   ]
  },
  {
   "cell_type": "code",
   "execution_count": 39,
   "metadata": {
    "collapsed": true
   },
   "outputs": [
    {
     "name": "stdout",
     "output_type": "stream",
     "text": [
      "True\n",
      "True\n",
      "True\n",
      "True\n"
     ]
    }
   ],
   "source": [
    "def my_function(x, y):\n",
    "    return {\n",
    "        1: lambda: y * y,\n",
    "        2: lambda: x + y,\n",
    "        3: lambda: x * y,\n",
    "        4: lambda: 0\n",
    "    }[x]()\n",
    "\n",
    "print(my_function(1,3)==9)\n",
    "print(my_function(2,4)==6)\n",
    "print(my_function(3,1)==3)\n",
    "print(my_function(4,9)==0)"
   ]
  }
 ],
 "metadata": {
  "kernelspec": {
   "display_name": "Python 3",
   "language": "python",
   "name": "python3"
  },
  "language_info": {
   "codemirror_mode": {
    "name": "ipython",
    "version": 3
   },
   "file_extension": ".py",
   "mimetype": "text/x-python",
   "name": "python",
   "nbconvert_exporter": "python",
   "pygments_lexer": "ipython3",
   "version": "3.6.2"
  }
 },
 "nbformat": 4,
 "nbformat_minor": 2
}