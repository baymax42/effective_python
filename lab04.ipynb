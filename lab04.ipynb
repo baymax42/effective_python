{
 "cells": [
  {
   "cell_type": "markdown",
   "metadata": {},
   "source": [
    "## Lab 04"
   ]
  },
  {
   "cell_type": "markdown",
   "metadata": {},
   "source": [
    "## Zadanie 1 (Igor Sieradzki)"
   ]
  },
  {
   "cell_type": "markdown",
   "metadata": {},
   "source": [
    "Funkcja <t>flow_rate</i> do modyfikacji"
   ]
  },
  {
   "cell_type": "code",
   "execution_count": 1,
   "metadata": {
    "collapsed": true
   },
   "outputs": [],
   "source": [
    "def flow_rate(weight, time, **kwargs):\n",
    "    \"\"\" Funkcja wylicza ile wagi produktu przybyło/ubyło w jednostce czasu \"\"\"\n",
    "    return (weight * kwargs.get('units_per_kg', 1)) / (time / kwargs.get('period', 1))\n",
    "\n",
    "weight = 0.5\n",
    "time = 3"
   ]
  },
  {
   "cell_type": "code",
   "execution_count": null,
   "metadata": {
    "collapsed": true
   },
   "outputs": [],
   "source": [
    "flow = flow_rate(weight, time)\n",
    "print(\"{0:.3} kg per second\".format(flow))"
   ]
  },
  {
   "cell_type": "code",
   "execution_count": null,
   "metadata": {
    "collapsed": true
   },
   "outputs": [],
   "source": [
    "Zmodyfikuj funckje <i>flow_rate</i> tak, aby poniższe wywołania działały poprawnie."
   ]
  },
  {
   "cell_type": "code",
   "execution_count": 2,
   "metadata": {
    "collapsed": true
   },
   "outputs": [
    {
     "name": "stdout",
     "output_type": "stream",
     "text": [
      "10000.0 grams per minute\n"
     ]
    }
   ],
   "source": [
    "flow = flow_rate(weight, time, period=60, units_per_kg=1000)\n",
    "print(\"{} grams per minute\".format(flow))"
   ]
  },
  {
   "cell_type": "code",
   "execution_count": 3,
   "metadata": {
    "collapsed": true
   },
   "outputs": [
    {
     "name": "stdout",
     "output_type": "stream",
     "text": [
      "0.167 kg per second\n"
     ]
    }
   ],
   "source": [
    "flow = flow_rate(weight, time, period=1, units_per_kg=1)\n",
    "print(\"{0:.3} kg per second\".format(flow))"
   ]
  },
  {
   "cell_type": "code",
   "execution_count": 4,
   "metadata": {
    "collapsed": true
   },
   "outputs": [
    {
     "name": "stdout",
     "output_type": "stream",
     "text": [
      "0.167 grams per minute\n"
     ]
    }
   ],
   "source": [
    "flow = flow_rate(weight, time)\n",
    "print(\"{0:.3} grams per minute\".format(flow))"
   ]
  },
  {
   "cell_type": "markdown",
   "metadata": {},
   "source": [
    "Wyjaśnić czemu poniższe rzucanie błędu jest porządane"
   ]
  },
  {
   "cell_type": "code",
   "execution_count": 5,
   "metadata": {
    "collapsed": true
   },
   "outputs": [
    {
     "name": "stdout",
     "output_type": "stream",
     "text": [
      "True\n"
     ]
    }
   ],
   "source": [
    "try:\n",
    "    flow = flow_rate(weight, time, 3600, 2.2)\n",
    "except TypeError:\n",
    "    print(True)"
   ]
  },
  {
   "cell_type": "markdown",
   "metadata": {},
   "source": [
    "## Zadanie 2 (Igor Sieradzki)"
   ]
  },
  {
   "cell_type": "markdown",
   "metadata": {},
   "source": [
    "Dopisz definicje dekoratora _timeit_, który wypisze na wyjscie standardowe czas wywołania udekorowanej funckji np.\n",
    "\n",
    "```\n",
    "@timeit\n",
    "def foo(x):\n",
    "    return x**2\n",
    "    \n",
    "r = foo(2)\n",
    "```\n",
    "wypize: <br>\n",
    "    `Function foo took: 0.00001 seconds` <br>\n",
    "oraz zwróci 4"
   ]
  },
  {
   "cell_type": "code",
   "execution_count": 1,
   "metadata": {
    "collapsed": true
   },
   "outputs": [
    {
     "name": "stdout",
     "output_type": "stream",
     "text": [
      "Function squares_list took 0.22823143005371094 seconds\n",
      "Function squares_comprehension took 0.20360779762268066 seconds\n",
      "Function squares_map took 2.6226043701171875e-06 seconds\n"
     ]
    }
   ],
   "source": [
    "from functools import wraps\n",
    "from time import time\n",
    "\n",
    "def timeit(func):\n",
    "    \"\"\" Wypisuje czas wywołania udekorowanej funckji \"\"\"\n",
    "    @wraps(func)\n",
    "    def get_time_between_runs(*args):\n",
    "        start = time()\n",
    "        func(*args)\n",
    "        elapsed = time() - start\n",
    "        print(f\"Function {func.__name__} took {elapsed} seconds\")\n",
    "    return get_time_between_runs\n",
    "\n",
    "@timeit\n",
    "def squares_list(n):\n",
    "    squares = []\n",
    "    for i in range(n):\n",
    "        squares.append(i ** 2)\n",
    "    return squares\n",
    "\n",
    "@timeit\n",
    "def squares_comprehension(n):\n",
    "    return [i ** 2 for i in range(n)]\n",
    "\n",
    "@timeit\n",
    "def squares_map(n):\n",
    "    return map(lambda x: x**2, range(n))\n",
    "\n",
    "n = 1000000\n",
    "l = squares_list(n)\n",
    "c = squares_comprehension(n)\n",
    "m = squares_map(n)"
   ]
  },
  {
   "cell_type": "markdown",
   "metadata": {},
   "source": [
    "## Zadanie 3 (Igor Sieradzki)"
   ]
  },
  {
   "cell_type": "markdown",
   "metadata": {},
   "source": [
    "Dopisz definicje dekoratora _derivate_ wg. instrukcji w _docstringu_"
   ]
  },
  {
   "cell_type": "code",
   "execution_count": 14,
   "metadata": {
    "collapsed": true
   },
   "outputs": [
    {
     "name": "stdout",
     "output_type": "stream",
     "text": [
      "True\n",
      "True\n",
      "False\n",
      "True\n",
      "1651.5830263961107 1651.5730264005335 \t True\n",
      "1610612.736 2045770.096150363 \t False\n",
      "1695.211740094237 1695.2017400968653 \t True\n",
      "2147483.648 2155281.70472058 \t False\n",
      "1372.1066922182217 1372.096692220192 \t True\n",
      "1342177.28 1411986.9996011942 \t False\n",
      "427.03758205170743 427.02758205275717 \t True\n",
      "134217.728 136764.41687536822 \t False\n",
      "1376.1109627957921 1376.1009627969947 \t True\n",
      "1342177.28 1420240.3948581119 \t False\n",
      "280.14912084872776 280.1391208487176 \t True\n",
      "60817.408 58858.445272419296 \t False\n",
      "768.5306739760563 768.5206739747945 \t True\n",
      "436207.616 442968.01974500425 \t False\n",
      "939.263543789275 939.2535437889236 \t True\n",
      "671088.64 661647.9146400385 \t False\n",
      "1615.9409359563142 1615.9309359662452 \t True\n",
      "1879048.192 1958424.5923595587 \t False\n",
      "1733.8370341574773 1733.8270341569091 \t True\n",
      "2147483.648 2254617.138280008 \t False\n",
      "347.09439396210655 347.0843939624764 \t True\n",
      "92274.688 90350.68239922464 \t False\n",
      "1401.5147181868088 1401.5047181876748 \t True\n",
      "1610612.736 1473161.6063267353 \t False\n",
      "1702.727561444044 1702.7175614467449 \t True\n",
      "2684354.56 2174435.320544362 \t False\n",
      "496.596242790838 496.586242791174 \t True\n",
      "192937.984 184948.4223970911 \t False\n",
      "1618.3049027109519 1618.2949027045927 \t True\n",
      "1879048.192 1964158.7940897504 \t False\n",
      "1610.0545901805162 1610.0445901859307 \t True\n",
      "1879048.192 1944182.6867902363 \t False\n",
      "1166.4329725666903 1166.4229725692612 \t True\n",
      "1207959.552 1020406.9132029836 \t False\n",
      "1660.5528484331444 1660.5428484381246 \t True\n",
      "2147483.648 2068051.9136242503 \t False\n",
      "420.5051954399096 420.49519544013083 \t False\n",
      "142606.336 132612.15704117535 \t False\n",
      "209.67023077628255 209.66023077617191 \t True\n",
      "33554.432 32968.05927683825 \t False\n"
     ]
    }
   ],
   "source": [
    "import sys\n",
    "import functools\n",
    "# sys.float_info.epsilon # epsilon maszynowy\n",
    "\n",
    "\n",
    "def derivate(func=None, *, epsilon=1000 * sys.float_info.epsilon):\n",
    "    \"\"\"\n",
    "    Zwraca pochodną funkcji w punkcie, wg. wzoru f'(x) = [f(x+h) - f(x)]/h, \n",
    "    gdzie h jest parametrem dekoratora, jeśli nie zostanie podany, należy przyjąć 1000 * epsilon maszynowy\n",
    "    \"\"\"\n",
    "    if func is None:\n",
    "        return functools.partial(derivate, epsilon=epsilon)\n",
    "\n",
    "    @wraps(func)\n",
    "    def wrapper(arg):\n",
    "        return (func(arg + epsilon) - func(arg)) / epsilon\n",
    "    return wrapper\n",
    "\n",
    "@derivate(epsilon=0.01)\n",
    "def f(x):\n",
    "    return x*x\n",
    "\n",
    "@derivate\n",
    "def g(x):\n",
    "    return x*x*x+3\n",
    "\n",
    "def test(a, b, eps=1):\n",
    "    return abs(round(a)-round(b)) < eps\n",
    "\n",
    "print(test(f(100), 200.0))\n",
    "print(round(f(0)) == 0.0)\n",
    "\n",
    "print(test(g(100), 30000.0))\n",
    "print(round(g(0)) == 0.0)\n",
    "\n",
    "from random import random\n",
    "for x in [random()*1000. for _ in range(20)]:\n",
    "    print(f(x), 2*x, '\\t', test(f(x), 2*x))\n",
    "    print(g(x), 3*x**2, '\\t', test(g(x), 3*x**2))"
   ]
  },
  {
   "cell_type": "markdown",
   "metadata": {},
   "source": [
    "## Zadanie 4 (Igor Sieradzki)"
   ]
  },
  {
   "cell_type": "markdown",
   "metadata": {},
   "source": [
    "Dopisz definicje dekoratora _accepts_ wg. instrukcji w _docstringu_"
   ]
  },
  {
   "cell_type": "code",
   "execution_count": 13,
   "metadata": {
    "collapsed": true
   },
   "outputs": [
    {
     "name": "stdout",
     "output_type": "stream",
     "text": [
      "<class 'str'>\n",
      "{}\n"
     ]
    },
    {
     "ename": "TypeError",
     "evalue": "'str' object is not callable",
     "output_type": "error",
     "traceback": [
      "\u001B[0;31m---------------------------------------------------------------------------\u001B[0m",
      "\u001B[0;31mTypeError\u001B[0m                                 Traceback (most recent call last)",
      "\u001B[0;32m/tmp/ipykernel_8122/354824097.py\u001B[0m in \u001B[0;36m<module>\u001B[0;34m\u001B[0m\n\u001B[1;32m     18\u001B[0m     \u001B[0;32mreturn\u001B[0m \u001B[0mword\u001B[0m\u001B[0;34m[\u001B[0m\u001B[0;36m0\u001B[0m\u001B[0;34m]\u001B[0m\u001B[0;34m.\u001B[0m\u001B[0mupper\u001B[0m\u001B[0;34m(\u001B[0m\u001B[0;34m)\u001B[0m \u001B[0;34m+\u001B[0m \u001B[0mword\u001B[0m\u001B[0;34m[\u001B[0m\u001B[0;36m1\u001B[0m\u001B[0;34m:\u001B[0m\u001B[0;34m]\u001B[0m\u001B[0;34m\u001B[0m\u001B[0;34m\u001B[0m\u001B[0m\n\u001B[1;32m     19\u001B[0m \u001B[0;34m\u001B[0m\u001B[0m\n\u001B[0;32m---> 20\u001B[0;31m \u001B[0mprint\u001B[0m\u001B[0;34m(\u001B[0m\u001B[0mcapitalize\u001B[0m\u001B[0;34m(\u001B[0m\u001B[0;34m'ola'\u001B[0m\u001B[0;34m)\u001B[0m \u001B[0;34m==\u001B[0m \u001B[0;34m'Ola'\u001B[0m\u001B[0;34m)\u001B[0m\u001B[0;34m\u001B[0m\u001B[0;34m\u001B[0m\u001B[0m\n\u001B[0m\u001B[1;32m     21\u001B[0m \u001B[0;34m\u001B[0m\u001B[0m\n\u001B[1;32m     22\u001B[0m \u001B[0;32mtry\u001B[0m\u001B[0;34m:\u001B[0m\u001B[0;34m\u001B[0m\u001B[0;34m\u001B[0m\u001B[0m\n",
      "\u001B[0;31mTypeError\u001B[0m: 'str' object is not callable"
     ]
    }
   ],
   "source": [
    "def accepts(*types):\n",
    "    \"\"\"Sprawdza czy udekorowanej funckji zostały podane odpowiednie parametry zdefiniowane \n",
    "       w argumentach dekoratora\"\"\"\n",
    "    def decorator(func):\n",
    "        @wraps(func)\n",
    "        def check_types(*args, **kwargs):\n",
    "            if not all([isinstance(arg, type) for type, arg in zip(types, args)]):\n",
    "                raise TypeError()\n",
    "            return func(*args, **kwargs)\n",
    "        return check_types\n",
    "    return decorator\n",
    "\n",
    "\n",
    "@accepts(str)\n",
    "def capitalize(word):\n",
    "    return word[0].upper() + word[1:]\n",
    "\n",
    "print(capitalize('ola') == 'Ola')\n",
    "\n",
    "try:\n",
    "    capitalize(2)\n",
    "except TypeError:\n",
    "    print(True)\n",
    "\n",
    "@accepts(float, int)\n",
    "def static_pow(base, exp):\n",
    "    return base ** exp \n",
    "\n",
    "print(static_pow(2., 2) == 4.)\n",
    "print(static_pow(2., exp=2) == 4.)\n",
    "print(static_pow(base=2., exp=2) == 4.)\n",
    "\n",
    "try:\n",
    "    static_pow('x', 10)\n",
    "except TypeError:\n",
    "    print(True)\n",
    "    \n",
    "try:\n",
    "    static_pow(2, 2.2)\n",
    "except TypeError:\n",
    "    print(True)"
   ]
  },
  {
   "cell_type": "markdown",
   "metadata": {},
   "source": [
    "## Zadanie 5 (Igor Sieradzki)"
   ]
  },
  {
   "cell_type": "markdown",
   "metadata": {},
   "source": [
    "Dopisz definicje dekoratora _returns_ wg. instrukcji w _docstringu_"
   ]
  },
  {
   "cell_type": "code",
   "execution_count": 28,
   "metadata": {
    "collapsed": true
   },
   "outputs": [
    {
     "name": "stdout",
     "output_type": "stream",
     "text": [
      "True\n",
      "True\n",
      "True\n",
      "True\n"
     ]
    }
   ],
   "source": [
    "from re import split\n",
    "\n",
    "\n",
    "def returns(*types):\n",
    "    \"\"\"Sprawdza czy udekorowana funkcja zwraca poprawne argumenty, zdefiniowane w parametrach dekoratora\"\"\"\n",
    "    def decorator(func):\n",
    "        @wraps(func)\n",
    "        def check_types(*args, **kwargs):\n",
    "            result = func(*args, **kwargs)\n",
    "            if not all([isinstance(arg, type) for type, arg in zip(types, result)]):\n",
    "                raise TypeError()\n",
    "            return result\n",
    "        return check_types\n",
    "    return decorator\n",
    "\n",
    "\n",
    "@returns(str)\n",
    "def str_only_identity(word):\n",
    "    return word\n",
    "\n",
    "print(str_only_identity('hello') == 'hello')\n",
    "\n",
    "try:\n",
    "    str_only_identity(10)\n",
    "except TypeError:\n",
    "    print(True)\n",
    "    \n",
    "@returns(int, int)\n",
    "def split_indices(x):\n",
    "    return x[0], x[1]\n",
    "\n",
    "print(split_indices(x=[6,9]) == (6,9))\n",
    "\n",
    "try:\n",
    "    split('AB')\n",
    "except TypeError:\n",
    "    print(True)"
   ]
  },
  {
   "cell_type": "markdown",
   "metadata": {},
   "source": [
    "## Zadanie 6 (Igor Sieradzki)\n",
    "Stwórz dekorator cached służący do cachowania wywołań dowolnej funkcji, tzn. chcemy by:\n",
    "* wywołanie funkcji z określonymi argumentami miało miejsce tylko raz\n",
    "* funkcja mogła przyjmować dowolną liczbę nazwanych i nienazwanych argumentów\n",
    "* nie musi reagować poprawnie na domyślne argumenty, tzn. wywołanie funkcji z domyślnymi argumentami a podanie dokładnie takich samych może być traktowane jako dwa różne wywołania\n",
    "* na opakowanej funkcji można wywołać `.cache_reset()`, który usunie cache z pamięci\n",
    "* wywołanie `.cache_status()` zwraca string z opisem w postaci: <br>\n",
    "    `Function FUNCTION_NAME called X times, evaluated Y times`"
   ]
  },
  {
   "cell_type": "code",
   "execution_count": 18,
   "metadata": {
    "collapsed": true
   },
   "outputs": [
    {
     "name": "stdout",
     "output_type": "stream",
     "text": [
      "True\n",
      "True\n",
      "True\n",
      "True\n",
      "True\n",
      "True\n",
      "Function abcd called 3 times, evaluated 1 times\n"
     ]
    }
   ],
   "source": [
    "import functools\n",
    "from functools import wraps\n",
    "from random import random\n",
    "\n",
    "class Cached:\n",
    "    def __init__(self, func):\n",
    "        functools.update_wrapper(self, func)\n",
    "        self.func = func\n",
    "        self.times_run = 0\n",
    "        self.times_executed = 0\n",
    "        self.cache = {}\n",
    "\n",
    "    @staticmethod\n",
    "    def _hash(name, *args, **kwargs):\n",
    "        return hash((name, args, frozenset(kwargs.items())))\n",
    "\n",
    "    def cache_reset(self):\n",
    "        self.cache = {}\n",
    "\n",
    "    def cache_status(self):\n",
    "        return f'Function {self.func.__name__} called {self.times_run} times, evaluated {self.times_executed} times'\n",
    "\n",
    "    def __call__(self, *args, **kwargs):\n",
    "        exec_hash = self._hash(self.func.__name__, *args, **kwargs)\n",
    "        self.times_run += 1\n",
    "        if exec_hash in self.cache:\n",
    "            return self.cache[exec_hash]\n",
    "        self.times_executed += 1\n",
    "        return self.cache.setdefault(exec_hash, self.func(*args, **kwargs))\n",
    "\n",
    "def cached(func):\n",
    "    def hash(name, *args, **kwargs):\n",
    "        return f'{name}{\"\".join(map(str, args))}{\"\".join([f\"{key}={value}\" for key, value in sorted(kwargs.items())])}'\n",
    "\n",
    "    @wraps(func)\n",
    "    def decorator(*args, **kwargs):\n",
    "        exec_hash = hash(func.__name__, *args, **kwargs)\n",
    "        decorator.times_run += 1\n",
    "        if exec_hash in decorator.cache:\n",
    "            return decorator.cache[exec_hash]\n",
    "        decorator.times_executed += 1\n",
    "        return decorator.cache.setdefault(exec_hash, func(*args, **kwargs))\n",
    "\n",
    "    def cache_reset():\n",
    "        decorator.cache = {}\n",
    "\n",
    "    def cache_status():\n",
    "        return f'Function {func.__name__} called {decorator.times_run} times, evaluated {decorator.times_executed} times'\n",
    "\n",
    "    decorator.times_run = 0\n",
    "    decorator.times_executed = 0\n",
    "    decorator.cache_status = cache_status\n",
    "    decorator.cache_reset = cache_reset\n",
    "    cache_reset()\n",
    "\n",
    "    return decorator\n",
    "\n",
    "@Cached\n",
    "def foo(x, y=1, z=4):\n",
    "    return random()\n",
    "\n",
    "@Cached\n",
    "def abcd():\n",
    "    return 1\n",
    "        \n",
    "print(foo(3) == foo(3))\n",
    "print(foo(4) == foo(4))\n",
    "print(foo(3, z=-1, y=3) == foo(3, y=3, z=-1))\n",
    "print(foo(3) != foo(x=3))\n",
    "a = foo(3)\n",
    "foo.cache_reset()\n",
    "print(a != foo(3))\n",
    "print(foo.cache_status() == 'Function foo called 10 times, evaluated 5 times')\n",
    "abcd()\n",
    "abcd()\n",
    "abcd()\n",
    "print(abcd.cache_status())"
   ]
  },
  {
   "cell_type": "markdown",
   "metadata": {},
   "source": [
    "## Zadanie 7 (Krzysztof Hajto)"
   ]
  },
  {
   "cell_type": "markdown",
   "metadata": {},
   "source": [
    "Napisz dekorator który będzie robić n-krotne złożenie funkcji, gdzie n jest parametrem dekoratora"
   ]
  },
  {
   "cell_type": "code",
   "execution_count": 40,
   "metadata": {
    "collapsed": true
   },
   "outputs": [
    {
     "name": "stdout",
     "output_type": "stream",
     "text": [
      "True\n",
      "True\n",
      "True\n"
     ]
    }
   ],
   "source": [
    "from functools import reduce\n",
    "\n",
    "\n",
    "def zlozenie(n):\n",
    "    def decorator_with_arg(func):\n",
    "        @wraps(func)\n",
    "        def decorator(arg):\n",
    "            result = func(arg)\n",
    "            for i in range(n - 1):\n",
    "                result = func(result)\n",
    "            return result\n",
    "        return decorator\n",
    "    return decorator_with_arg\n",
    "\n",
    "@zlozenie(3)\n",
    "def f1(x):\n",
    "    return x+1\n",
    "\n",
    "@zlozenie(2)\n",
    "def f2(x):\n",
    "    return x*x\n",
    "\n",
    "@zlozenie(5)\n",
    "def f3(word):\n",
    "    return \"\".join(chr(ord(l)+1) for l in word)\n",
    "\n",
    "print(f1(2)==5)\n",
    "print(f2(3)==81)\n",
    "print(f3(\"alamakota\")==\"fqfrfptyf\")"
   ]
  },
  {
   "cell_type": "markdown",
   "metadata": {},
   "source": [
    "## Zadanie 8 (Krzysztof Hajto)"
   ]
  },
  {
   "cell_type": "markdown",
   "metadata": {},
   "source": [
    "Python nie ma wbudowanej instrukcji switch. Ale posiada anonimowe funkcje oraz słowniki. Zaimplementuj poniższy switch w postaci słownika funkcji.\n",
    "`\n",
    "int my_function(x, y) {\n",
    "\n",
    "\n",
    "    switch(x) {\n",
    "        case 1: return y*y;\n",
    "        case 2: return x+y;\n",
    "        case 3: return x*y;\n",
    "        case 4: return 0;\n",
    "    }\n",
    "}\n",
    "`\n",
    "\n",
    "PS. Nigdy nie róbcie tego w faktycznym kodzie :)"
   ]
  },
  {
   "cell_type": "code",
   "execution_count": 39,
   "metadata": {
    "collapsed": true
   },
   "outputs": [
    {
     "name": "stdout",
     "output_type": "stream",
     "text": [
      "True\n",
      "True\n",
      "True\n",
      "True\n"
     ]
    }
   ],
   "source": [
    "def my_function(x, y):\n",
    "    return {\n",
    "        1: lambda: y * y,\n",
    "        2: lambda: x + y,\n",
    "        3: lambda: x * y,\n",
    "        4: lambda: 0\n",
    "    }[x]()\n",
    "\n",
    "print(my_function(1,3)==9)\n",
    "print(my_function(2,4)==6)\n",
    "print(my_function(3,1)==3)\n",
    "print(my_function(4,9)==0)"
   ]
  }
 ],
 "metadata": {
  "kernelspec": {
   "display_name": "Python 3",
   "language": "python",
   "name": "python3"
  },
  "language_info": {
   "codemirror_mode": {
    "name": "ipython",
    "version": 3
   },
   "file_extension": ".py",
   "mimetype": "text/x-python",
   "name": "python",
   "nbconvert_exporter": "python",
   "pygments_lexer": "ipython3",
   "version": "3.6.2"
  }
 },
 "nbformat": 4,
 "nbformat_minor": 2
}